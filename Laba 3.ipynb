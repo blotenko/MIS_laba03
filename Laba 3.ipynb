{
 "cells": [
  {
   "cell_type": "code",
   "execution_count": 2,
   "id": "06f62c23",
   "metadata": {},
   "outputs": [],
   "source": [
    "import numpy as np\n",
    "import pandas as pd\n",
    "import matplotlib.pyplot as plt"
   ]
  },
  {
   "cell_type": "markdown",
   "id": "9db339eb",
   "metadata": {},
   "source": [
    "Варіант №1\n",
    "1, 2, 3, 5, 10, 11, 12, 13, 14, 15, 16, 17, 18, 21,\n",
    "\n",
    "22, 23, 24, 26"
   ]
  },
  {
   "cell_type": "code",
   "execution_count": 10,
   "id": "56602eb7",
   "metadata": {},
   "outputs": [],
   "source": [
    "df = pd.read_csv('Downloads/NationalNames.csv').dropna()"
   ]
  },
  {
   "cell_type": "code",
   "execution_count": 11,
   "id": "fa28a205",
   "metadata": {},
   "outputs": [
    {
     "data": {
      "text/html": [
       "<div>\n",
       "<style scoped>\n",
       "    .dataframe tbody tr th:only-of-type {\n",
       "        vertical-align: middle;\n",
       "    }\n",
       "\n",
       "    .dataframe tbody tr th {\n",
       "        vertical-align: top;\n",
       "    }\n",
       "\n",
       "    .dataframe thead th {\n",
       "        text-align: right;\n",
       "    }\n",
       "</style>\n",
       "<table border=\"1\" class=\"dataframe\">\n",
       "  <thead>\n",
       "    <tr style=\"text-align: right;\">\n",
       "      <th></th>\n",
       "      <th>Id</th>\n",
       "      <th>Name</th>\n",
       "      <th>Year</th>\n",
       "      <th>Gender</th>\n",
       "      <th>Count</th>\n",
       "    </tr>\n",
       "  </thead>\n",
       "  <tbody>\n",
       "    <tr>\n",
       "      <th>0</th>\n",
       "      <td>1</td>\n",
       "      <td>Mary</td>\n",
       "      <td>1880</td>\n",
       "      <td>F</td>\n",
       "      <td>7065</td>\n",
       "    </tr>\n",
       "    <tr>\n",
       "      <th>1</th>\n",
       "      <td>2</td>\n",
       "      <td>Anna</td>\n",
       "      <td>1880</td>\n",
       "      <td>F</td>\n",
       "      <td>2604</td>\n",
       "    </tr>\n",
       "    <tr>\n",
       "      <th>2</th>\n",
       "      <td>3</td>\n",
       "      <td>Emma</td>\n",
       "      <td>1880</td>\n",
       "      <td>F</td>\n",
       "      <td>2003</td>\n",
       "    </tr>\n",
       "    <tr>\n",
       "      <th>3</th>\n",
       "      <td>4</td>\n",
       "      <td>Elizabeth</td>\n",
       "      <td>1880</td>\n",
       "      <td>F</td>\n",
       "      <td>1939</td>\n",
       "    </tr>\n",
       "    <tr>\n",
       "      <th>4</th>\n",
       "      <td>5</td>\n",
       "      <td>Minnie</td>\n",
       "      <td>1880</td>\n",
       "      <td>F</td>\n",
       "      <td>1746</td>\n",
       "    </tr>\n",
       "    <tr>\n",
       "      <th>5</th>\n",
       "      <td>6</td>\n",
       "      <td>Margaret</td>\n",
       "      <td>1880</td>\n",
       "      <td>F</td>\n",
       "      <td>1578</td>\n",
       "    </tr>\n",
       "    <tr>\n",
       "      <th>6</th>\n",
       "      <td>7</td>\n",
       "      <td>Ida</td>\n",
       "      <td>1880</td>\n",
       "      <td>F</td>\n",
       "      <td>1472</td>\n",
       "    </tr>\n",
       "    <tr>\n",
       "      <th>7</th>\n",
       "      <td>8</td>\n",
       "      <td>Alice</td>\n",
       "      <td>1880</td>\n",
       "      <td>F</td>\n",
       "      <td>1414</td>\n",
       "    </tr>\n",
       "  </tbody>\n",
       "</table>\n",
       "</div>"
      ],
      "text/plain": [
       "   Id       Name  Year Gender  Count\n",
       "0   1       Mary  1880      F   7065\n",
       "1   2       Anna  1880      F   2604\n",
       "2   3       Emma  1880      F   2003\n",
       "3   4  Elizabeth  1880      F   1939\n",
       "4   5     Minnie  1880      F   1746\n",
       "5   6   Margaret  1880      F   1578\n",
       "6   7        Ida  1880      F   1472\n",
       "7   8      Alice  1880      F   1414"
      ]
     },
     "execution_count": 11,
     "metadata": {},
     "output_type": "execute_result"
    }
   ],
   "source": [
    "df[:8]"
   ]
  },
  {
   "cell_type": "code",
   "execution_count": 12,
   "id": "d474fc37",
   "metadata": {},
   "outputs": [
    {
     "data": {
      "text/html": [
       "<div>\n",
       "<style scoped>\n",
       "    .dataframe tbody tr th:only-of-type {\n",
       "        vertical-align: middle;\n",
       "    }\n",
       "\n",
       "    .dataframe tbody tr th {\n",
       "        vertical-align: top;\n",
       "    }\n",
       "\n",
       "    .dataframe thead th {\n",
       "        text-align: right;\n",
       "    }\n",
       "</style>\n",
       "<table border=\"1\" class=\"dataframe\">\n",
       "  <thead>\n",
       "    <tr style=\"text-align: right;\">\n",
       "      <th></th>\n",
       "      <th>Id</th>\n",
       "      <th>Name</th>\n",
       "      <th>Year</th>\n",
       "      <th>Gender</th>\n",
       "      <th>Count</th>\n",
       "    </tr>\n",
       "  </thead>\n",
       "  <tbody>\n",
       "    <tr>\n",
       "      <th>1825425</th>\n",
       "      <td>1825426</td>\n",
       "      <td>Zo</td>\n",
       "      <td>2014</td>\n",
       "      <td>M</td>\n",
       "      <td>5</td>\n",
       "    </tr>\n",
       "    <tr>\n",
       "      <th>1825426</th>\n",
       "      <td>1825427</td>\n",
       "      <td>Zyeir</td>\n",
       "      <td>2014</td>\n",
       "      <td>M</td>\n",
       "      <td>5</td>\n",
       "    </tr>\n",
       "    <tr>\n",
       "      <th>1825427</th>\n",
       "      <td>1825428</td>\n",
       "      <td>Zyel</td>\n",
       "      <td>2014</td>\n",
       "      <td>M</td>\n",
       "      <td>5</td>\n",
       "    </tr>\n",
       "    <tr>\n",
       "      <th>1825428</th>\n",
       "      <td>1825429</td>\n",
       "      <td>Zykeem</td>\n",
       "      <td>2014</td>\n",
       "      <td>M</td>\n",
       "      <td>5</td>\n",
       "    </tr>\n",
       "    <tr>\n",
       "      <th>1825429</th>\n",
       "      <td>1825430</td>\n",
       "      <td>Zymeer</td>\n",
       "      <td>2014</td>\n",
       "      <td>M</td>\n",
       "      <td>5</td>\n",
       "    </tr>\n",
       "    <tr>\n",
       "      <th>1825430</th>\n",
       "      <td>1825431</td>\n",
       "      <td>Zymiere</td>\n",
       "      <td>2014</td>\n",
       "      <td>M</td>\n",
       "      <td>5</td>\n",
       "    </tr>\n",
       "    <tr>\n",
       "      <th>1825431</th>\n",
       "      <td>1825432</td>\n",
       "      <td>Zyran</td>\n",
       "      <td>2014</td>\n",
       "      <td>M</td>\n",
       "      <td>5</td>\n",
       "    </tr>\n",
       "    <tr>\n",
       "      <th>1825432</th>\n",
       "      <td>1825433</td>\n",
       "      <td>Zyrin</td>\n",
       "      <td>2014</td>\n",
       "      <td>M</td>\n",
       "      <td>5</td>\n",
       "    </tr>\n",
       "  </tbody>\n",
       "</table>\n",
       "</div>"
      ],
      "text/plain": [
       "              Id     Name  Year Gender  Count\n",
       "1825425  1825426       Zo  2014      M      5\n",
       "1825426  1825427    Zyeir  2014      M      5\n",
       "1825427  1825428     Zyel  2014      M      5\n",
       "1825428  1825429   Zykeem  2014      M      5\n",
       "1825429  1825430   Zymeer  2014      M      5\n",
       "1825430  1825431  Zymiere  2014      M      5\n",
       "1825431  1825432    Zyran  2014      M      5\n",
       "1825432  1825433    Zyrin  2014      M      5"
      ]
     },
     "execution_count": 12,
     "metadata": {},
     "output_type": "execute_result"
    }
   ],
   "source": [
    "df[-8:]"
   ]
  },
  {
   "cell_type": "code",
   "execution_count": 14,
   "id": "2bcf9604",
   "metadata": {},
   "outputs": [
    {
     "name": "stdout",
     "output_type": "stream",
     "text": [
      "<class 'pandas.core.frame.DataFrame'>\n",
      "RangeIndex: 1825433 entries, 0 to 1825432\n",
      "Data columns (total 5 columns):\n",
      " #   Column  Dtype \n",
      "---  ------  ----- \n",
      " 0   Id      int64 \n",
      " 1   Name    object\n",
      " 2   Year    int64 \n",
      " 3   Gender  object\n",
      " 4   Count   int64 \n",
      "dtypes: int64(3), object(2)\n",
      "memory usage: 69.6+ MB\n"
     ]
    }
   ],
   "source": [
    "df.info()"
   ]
  },
  {
   "cell_type": "code",
   "execution_count": 15,
   "id": "2e79b43c",
   "metadata": {},
   "outputs": [
    {
     "data": {
      "text/plain": [
       "93889"
      ]
     },
     "execution_count": 15,
     "metadata": {},
     "output_type": "execute_result"
    }
   ],
   "source": [
    "df.drop_duplicates(subset = 'Name').count()['Count']"
   ]
  },
  {
   "cell_type": "code",
   "execution_count": 16,
   "id": "2f2a24a4",
   "metadata": {},
   "outputs": [
    {
     "data": {
      "text/plain": [
       "Year\n",
       "1880     1889\n",
       "1881     1830\n",
       "1882     2012\n",
       "1883     1962\n",
       "1884     2158\n",
       "        ...  \n",
       "2010    31603\n",
       "2011    31418\n",
       "2012    31236\n",
       "2013    30774\n",
       "2014    30579\n",
       "Name: Name, Length: 135, dtype: int64"
      ]
     },
     "execution_count": 16,
     "metadata": {},
     "output_type": "execute_result"
    }
   ],
   "source": [
    "df.groupby('Year')['Name'].nunique()"
   ]
  },
  {
   "cell_type": "code",
   "execution_count": 17,
   "id": "a4385a5f",
   "metadata": {},
   "outputs": [
    {
     "data": {
      "text/plain": [
       "Year\n",
       "2008    32488\n",
       "Name: Name, dtype: int64"
      ]
     },
     "execution_count": 17,
     "metadata": {},
     "output_type": "execute_result"
    }
   ],
   "source": [
    "df.groupby('Year')['Name'].nunique().sort_values(ascending=False).head(1)"
   ]
  },
  {
   "cell_type": "code",
   "execution_count": 18,
   "id": "f830baaf",
   "metadata": {},
   "outputs": [
    {
     "data": {
      "text/plain": [
       "'Jacob'"
      ]
     },
     "execution_count": 18,
     "metadata": {},
     "output_type": "execute_result"
    }
   ],
   "source": [
    "df.query(\"Year == 2008\").sort_values(by=['Count'], ascending=False)[:1]['Name'].iloc[0]"
   ]
  },
  {
   "cell_type": "code",
   "execution_count": 19,
   "id": "99b8a612",
   "metadata": {},
   "outputs": [
    {
     "data": {
      "text/plain": [
       "2004"
      ]
     },
     "execution_count": 19,
     "metadata": {},
     "output_type": "execute_result"
    }
   ],
   "source": [
    "df.query(\"Name == 'Jacob' and Gender == 'F'\").sort_values(by=['Count'], ascending=False)[:1]['Year'].iloc[0]"
   ]
  },
  {
   "cell_type": "code",
   "execution_count": 20,
   "id": "a19d5a42",
   "metadata": {},
   "outputs": [
    {
     "name": "stdout",
     "output_type": "stream",
     "text": [
      "Рік з найбільшою кількістю гендерно нейтральних імен: 2008\n"
     ]
    }
   ],
   "source": [
    "df['Neutral'] = (df['Gender'] == 'F') | (df['Gender'] == 'M')\n",
    "\n",
    "# Групуємо дані за рік та ім'я та підраховуємо кількість унікальних гендерів\n",
    "grouped = df.groupby(['Year', 'Name'])['Neutral'].nunique().reset_index()\n",
    "\n",
    "# Обчислюємо кількість гендерно нейтральних імен у кожному році\n",
    "neutral_names_count = grouped.groupby('Year').size()\n",
    "\n",
    "# Знаходимо рік з найбільшою кількістю гендерно нейтральних імен\n",
    "year_with_max_neutral_names = neutral_names_count.idxmax()\n",
    "\n",
    "print(\"Рік з найбільшою кількістю гендерно нейтральних імен:\", year_with_max_neutral_names)"
   ]
  },
  {
   "cell_type": "code",
   "execution_count": 21,
   "id": "05fa3a51",
   "metadata": {},
   "outputs": [
    {
     "name": "stdout",
     "output_type": "stream",
     "text": [
      "Загальна кількість народжень за рік:\n",
      "Year\n",
      "1880     201484\n",
      "1881     192699\n",
      "1882     221538\n",
      "1883     216950\n",
      "1884     243467\n",
      "         ...   \n",
      "2010    3686589\n",
      "2011    3646730\n",
      "2012    3643336\n",
      "2013    3626802\n",
      "2014    3670151\n",
      "Name: Count, Length: 135, dtype: int64\n"
     ]
    }
   ],
   "source": [
    "births_per_year = df.groupby('Year')['Count'].sum()\n",
    "\n",
    "print(\"Загальна кількість народжень за рік:\")\n",
    "print(births_per_year)"
   ]
  },
  {
   "cell_type": "code",
   "execution_count": 22,
   "id": "374a20b0",
   "metadata": {},
   "outputs": [
    {
     "name": "stdout",
     "output_type": "stream",
     "text": [
      "Рік з найбільшою кількістю народжених дітей: 1957\n"
     ]
    }
   ],
   "source": [
    "births_per_year = df.groupby('Year')['Count'].sum()\n",
    "\n",
    "# Знаходимо рік з найбільшою кількістю народжених дітей\n",
    "year_with_most_births = births_per_year.idxmax()\n",
    "\n",
    "print(\"Рік з найбільшою кількістю народжених дітей:\", year_with_most_births)"
   ]
  },
  {
   "cell_type": "code",
   "execution_count": 23,
   "id": "3b5d46ac",
   "metadata": {},
   "outputs": [
    {
     "name": "stdout",
     "output_type": "stream",
     "text": [
      "Кількість дівчаток та хлопчиків, які народились кожного року:\n",
      "Year  Gender\n",
      "1880  F           90993\n",
      "      M          110491\n",
      "1881  F           91954\n",
      "      M          100745\n",
      "1882  F          107850\n",
      "                 ...   \n",
      "2012  M         1889414\n",
      "2013  F         1745339\n",
      "      M         1881463\n",
      "2014  F         1768775\n",
      "      M         1901376\n",
      "Name: Count, Length: 270, dtype: int64\n"
     ]
    }
   ],
   "source": [
    "gender_counts_per_year = df.groupby(['Year', 'Gender'])['Count'].sum()\n",
    "\n",
    "print(\"Кількість дівчаток та хлопчиків, які народились кожного року:\")\n",
    "print(gender_counts_per_year)"
   ]
  },
  {
   "cell_type": "code",
   "execution_count": 24,
   "id": "0511e39d",
   "metadata": {},
   "outputs": [
    {
     "name": "stdout",
     "output_type": "stream",
     "text": [
      "Кількість років, коли народжувалося більше дівчаток, ніж хлопчиків: 54\n"
     ]
    }
   ],
   "source": [
    "gender_counts_per_year = df.groupby(['Year', 'Gender'])['Count'].sum().unstack()\n",
    "\n",
    "# Підраховуємо кількість років, коли народжувалося більше дівчаток, ніж хлопчиків\n",
    "years_more_girls = (gender_counts_per_year['F'] > gender_counts_per_year['M']).sum()\n",
    "\n",
    "print(\"Кількість років, коли народжувалося більше дівчаток, ніж хлопчиків:\", years_more_girls)"
   ]
  },
  {
   "cell_type": "code",
   "execution_count": 25,
   "id": "7bfc94ba",
   "metadata": {},
   "outputs": [
    {
     "name": "stdout",
     "output_type": "stream",
     "text": [
      "Кількість разів, коли хлопчиків називали Barbara: 4139\n"
     ]
    }
   ],
   "source": [
    "barbara_male_count = df[(df['Name'] == 'Barbara') & (df['Gender'] == 'M')]['Count'].sum()\n",
    "\n",
    "print(\"Кількість разів, коли хлопчиків називали Barbara:\", barbara_male_count)\n"
   ]
  },
  {
   "cell_type": "code",
   "execution_count": 26,
   "id": "f74b8243",
   "metadata": {},
   "outputs": [
    {
     "name": "stdout",
     "output_type": "stream",
     "text": [
      "Скільки років проводилось спостереження: 135\n"
     ]
    }
   ],
   "source": [
    "earliest_year = df['Year'].min()\n",
    "latest_year = df['Year'].max()\n",
    "\n",
    "# Різниця між найстаршим та наймолодшим роками покаже, скільки років проводилось спостереження\n",
    "observation_years = latest_year - earliest_year + 1\n",
    "\n",
    "print(\"Скільки років проводилось спостереження:\", observation_years)"
   ]
  },
  {
   "cell_type": "code",
   "execution_count": 28,
   "id": "966da7bb",
   "metadata": {},
   "outputs": [
    {
     "name": "stdout",
     "output_type": "stream",
     "text": [
      "Найпопулярніше серед непопулярних імен: Aabid\n"
     ]
    }
   ],
   "source": [
    "name_counts = df.groupby('Name')['Count'].sum()\n",
    "\n",
    "# Знаходимо найменш популярні імена\n",
    "unpopular_names = name_counts[name_counts == name_counts.min()]\n",
    "\n",
    "# Вибираємо серед непопулярних імен те, яке було використане найбільше разів\n",
    "most_popular_unpopular_name = df[df['Name'].isin(unpopular_names.index)].groupby('Name')['Count'].sum().idxmax()\n",
    "\n",
    "print(\"Найпопулярніше серед непопулярних імен:\", most_popular_unpopular_name)"
   ]
  },
  {
   "cell_type": "code",
   "execution_count": 29,
   "id": "19ab1cb2",
   "metadata": {},
   "outputs": [
    {
     "data": {
      "image/png": "[encoded data removed]",
      "text/plain": [
       "<Figure size 1000x600 with 1 Axes>"
      ]
     },
     "metadata": {},
     "output_type": "display_data"
    }
   ],
   "source": [
    "john_data = df[(df['Name'] == 'John') & (df['Gender'] == 'F')]\n",
    "mary_data = df[(df['Name'] == 'Mary') & (df['Gender'] == 'M')]\n",
    "\n",
    "# Групуємо дані за роком та підраховуємо загальну кількість народжень для кожного року\n",
    "john_counts = john_data.groupby('Year')['Count'].sum()\n",
    "mary_counts = mary_data.groupby('Year')['Count'].sum()\n",
    "\n",
    "# Побудова графіків\n",
    "plt.figure(figsize=(10, 6))\n",
    "plt.plot(john_counts.index, john_counts.values, label='Жіночі імена \"John\"', color='blue')\n",
    "plt.plot(mary_counts.index, mary_counts.values, label='Чоловічі імена \"Mary\"', color='red')\n",
    "\n",
    "# Налаштування відображення\n",
    "plt.title('Розподілення кількості жіночих імен \"John\" та чоловічих імен \"Mary\" по роках')\n",
    "plt.xlabel('Рік')\n",
    "plt.ylabel('Кількість народжень')\n",
    "plt.legend()\n",
    "plt.grid(True)\n",
    "\n",
    "# Показати графік\n",
    "plt.show()"
   ]
  },
  {
   "cell_type": "code",
   "execution_count": null,
   "id": "3f2d5a60",
   "metadata": {},
   "outputs": [],
   "source": []
  }
 ],
 "metadata": {
  "kernelspec": {
   "display_name": "Python 3 (ipykernel)",
   "language": "python",
   "name": "python3"
  },
  "language_info": {
   "codemirror_mode": {
    "name": "ipython",
    "version": 3
   },
   "file_extension": ".py",
   "mimetype": "text/x-python",
   "name": "python",
   "nbconvert_exporter": "python",
   "pygments_lexer": "ipython3",
   "version": "3.11.5"
  }
 },
 "nbformat": 4,
 "nbformat_minor": 5
}
